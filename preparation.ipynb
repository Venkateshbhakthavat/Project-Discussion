{
 "cells": [
  {
   "cell_type": "code",
   "execution_count": 1,
   "metadata": {},
   "outputs": [],
   "source": [
    "import glob\n",
    "import os\n",
    "import pandas as pd\n",
    "import numpy as np\n",
    "import shutil\n",
    "import librosa\n",
    "from tqdm import tqdm"
   ]
  },
  {
   "cell_type": "code",
   "execution_count": 4,
   "metadata": {},
   "outputs": [],
   "source": [
    "def extract_feature(file_name, **kwargs):\n",
    "    \"\"\"\n",
    "    Extract feature from audio file `file_name`\n",
    "        Features supported:\n",
    "            - MFCC (mfcc)\n",
    "            - Chroma (chroma)\n",
    "            - MEL Spectrogram Frequency (mel)\n",
    "            - Contrast (contrast)\n",
    "            - Tonnetz (tonnetz)\n",
    "        e.g:\n",
    "        `features = extract_feature(path, mel=True, mfcc=True)`\n",
    "    \"\"\"\n",
    "    mfcc = kwargs.get(\"mfcc\")\n",
    "    chroma = kwargs.get(\"chroma\")\n",
    "    mel = kwargs.get(\"mel\")\n",
    "    contrast = kwargs.get(\"contrast\")\n",
    "    tonnetz = kwargs.get(\"tonnetz\")\n",
    "    X, sample_rate = librosa.core.load(file_name)\n",
    "    if chroma or contrast:\n",
    "        stft = np.abs(librosa.stft(X))\n",
    "        \n",
    "    result = np.array([])\n",
    "    if mfcc:\n",
    "        mfccs = np.mean(librosa.feature.mfcc(y=X, sr=sample_rate, n_mfcc=40).T, axis=0)\n",
    "        result = np.hstack((result, mfccs))\n",
    "    if chroma:\n",
    "        chroma = np.mean(librosa.feature.chroma_stft(S=stft, sr=sample_rate).T,axis=0)\n",
    "        result = np.hstack((result, chroma))\n",
    "    if mel:\n",
    "        mel = np.mean(librosa.feature.melspectrogram(X, sr=sample_rate).T,axis=0)\n",
    "        result = np.hstack((result, mel))\n",
    "    if contrast:\n",
    "        contrast = np.mean(librosa.feature.spectral_contrast(S=stft, sr=sample_rate).T,axis=0)\n",
    "        result = np.hstack((result, contrast))\n",
    "    if tonnetz:\n",
    "        tonnetz = np.mean(librosa.feature.tonnetz(y=librosa.effects.harmonic(X), sr=sample_rate).T,axis=0)\n",
    "        result = np.hstack((result, tonnetz))\n",
    "    return result"
   ]
  },
  {
   "cell_type": "code",
   "execution_count": 5,
   "metadata": {},
   "outputs": [],
   "source": [
    "feature = extract_feature(\"test.wav\", mel=True)\n",
    "np.save(\"test\",feature)"
   ]
  },
  {
   "cell_type": "code",
   "execution_count": null,
   "metadata": {},
   "outputs": [],
   "source": [
    "dirname = \"data\"\n",
    "\n",
    "if not os.path.isdir(dirname):\n",
    "    os.mkdir(dirname)\n",
    "\n",
    "\n",
    "csv_files = glob.glob(\"*.csv\")\n",
    "\n"
   ]
  },
  {
   "cell_type": "code",
   "execution_count": null,
   "metadata": {},
   "outputs": [],
   "source": [
    "for j, csv_file in enumerate(csv_files):\n",
    "    print(\"[+] Preprocessing\", csv_file)\n",
    "    df = pd.read_csv(csv_file)\n",
    "    # only take filename and gender columns\n",
    "    new_df = df[[\"filename\", \"gender\"]]\n",
    "    print(\"Previously:\", len(new_df), \"rows\")\n",
    "    # take only male & female genders (i.e droping NaNs & 'other' gender)\n",
    "    new_df = new_df[np.logical_or(new_df['gender'] == 'female', new_df['gender'] == 'male')]\n",
    "    print(\"Now:\", len(new_df), \"rows\")\n",
    "    new_csv_file = os.path.join(dirname, csv_file)\n",
    "    # save new preprocessed CSV \n",
    "    new_df.to_csv(new_csv_file, index=False)\n",
    "    # get the folder name\n",
    "    folder_name, _ = csv_file.split(\".\")\n",
    "    audio_files = glob.glob(f\"{folder_name}/{folder_name}/*\")\n",
    "    all_audio_filenames = set(new_df[\"filename\"])\n",
    "    for i, audio_file in tqdm(list(enumerate(audio_files)), f\"Extracting features of {folder_name}\"):\n",
    "        splited = os.path.split(audio_file)\n",
    "        # audio_filename = os.path.join(os.path.split(splited[0])[-1], splited[-1])\n",
    "        audio_filename = f\"{os.path.split(splited[0])[-1]}/{splited[-1]}\"\n",
    "        # print(\"audio_filename:\", audio_filename)\n",
    "        if audio_filename in all_audio_filenames:\n",
    "            # print(\"Copyying\", audio_filename, \"...\")\n",
    "            src_path = f\"{folder_name}/{audio_filename}\"\n",
    "            target_path = f\"{dirname}/{audio_filename}\"\n",
    "            #create that folder if it doesn't exist\n",
    "            if not os.path.isdir(os.path.dirname(target_path)):\n",
    "                os.mkdir(os.path.dirname(target_path))\n",
    "            features = extract_feature(src_path, mel=True)\n",
    "            target_filename = target_path.split(\".\")[0]\n",
    "            np.save(target_filename, features)\n",
    "            # shutil.copyfile(src_path, target_path)"
   ]
  }
 ],
 "metadata": {
  "interpreter": {
   "hash": "63fd5069d213b44bf678585dea6b12cceca9941eaf7f819626cde1f2670de90d"
  },
  "kernelspec": {
   "display_name": "Python 3.9.1 64-bit",
   "language": "python",
   "name": "python3"
  },
  "language_info": {
   "codemirror_mode": {
    "name": "ipython",
    "version": 3
   },
   "file_extension": ".py",
   "mimetype": "text/x-python",
   "name": "python",
   "nbconvert_exporter": "python",
   "pygments_lexer": "ipython3",
   "version": "3.9.1"
  },
  "orig_nbformat": 4
 },
 "nbformat": 4,
 "nbformat_minor": 2
}
